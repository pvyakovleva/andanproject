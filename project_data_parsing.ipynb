{
 "cells": [
  {
   "cell_type": "code",
   "execution_count": 1,
   "id": "9c4d952f",
   "metadata": {},
   "outputs": [],
   "source": [
    "import pandas as pd\n",
    "import requests"
   ]
  },
  {
   "cell_type": "code",
   "execution_count": 2,
   "id": "1a5bf362",
   "metadata": {},
   "outputs": [],
   "source": [
    "from bs4 import BeautifulSoup"
   ]
  },
  {
   "cell_type": "code",
   "execution_count": 3,
   "id": "c4a2cfea",
   "metadata": {},
   "outputs": [],
   "source": [
    "# персональные данные необходимые для доступа к информации сайта last.fm\n",
    "api_key='***'\n",
    "api_secret='***'"
   ]
  },
  {
   "cell_type": "code",
   "execution_count": 4,
   "id": "c454b58e",
   "metadata": {},
   "outputs": [],
   "source": [
    "payload = {\n",
    "    'api_key': api_key,\n",
    "    'method': 'chart.getTopTracks',\n",
    "    'format': 'json', \n",
    "    'page' : 1\n",
    "}\n",
    "\n",
    "r = requests.get('http://ws.audioscrobbler.com/2.0/?method=chart.gettoptracks&api_key=YOUR_API_KEY&format=json', params=payload)"
   ]
  },
  {
   "cell_type": "code",
   "execution_count": 5,
   "id": "7033e7bb",
   "metadata": {},
   "outputs": [],
   "source": [
    "infa=r.json()['tracks']['track']"
   ]
  },
  {
   "cell_type": "code",
   "execution_count": 6,
   "id": "47301933",
   "metadata": {},
   "outputs": [],
   "source": [
    "for i in range(2, 25):\n",
    "    payload['page']=i\n",
    "    response=requests.get('http://ws.audioscrobbler.com/2.0/?method=chart.gettoptracks&api_key=YOUR_API_KEY&format=json', params=payload)\n",
    "    data=response.json()\n",
    "    infa+=data['tracks']['track']"
   ]
  },
  {
   "cell_type": "code",
   "execution_count": 7,
   "id": "46c3dffe",
   "metadata": {},
   "outputs": [
    {
     "data": {
      "text/plain": [
       "2150"
      ]
     },
     "execution_count": 7,
     "metadata": {},
     "output_type": "execute_result"
    }
   ],
   "source": [
    "len(infa) # сколько всего песен получили "
   ]
  },
  {
   "cell_type": "markdown",
   "id": "3a000c4f",
   "metadata": {},
   "source": [
    "Воспользуемся методом 'chart.getTopTracks' API last.fm и получим песни из чарта вместе с рядом их параметров, мы решили пройтись по 25 страницам, чтобы не усложнять работу имеющихся циклов. "
   ]
  },
  {
   "cell_type": "code",
   "execution_count": 8,
   "id": "3e66ff5b",
   "metadata": {},
   "outputs": [],
   "source": [
    "track_list = []\n",
    "for track in range(len(infa)):\n",
    "    track_dict = {'artist_name': infa[track]['artist']['name'], 'song_name': infa[track]['name'],\n",
    "        'duration': infa[track]['duration'],\n",
    "        'playcount': infa[track]['playcount'],\n",
    "        'listeners': infa[track]['listeners']}\n",
    "    track_list.append(track_dict)\n",
    "# создали словарь с данными по каждой песне"
   ]
  },
  {
   "cell_type": "code",
   "execution_count": 10,
   "id": "d899bfdc",
   "metadata": {},
   "outputs": [
    {
     "name": "stdout",
     "output_type": "stream",
     "text": [
      "Requirement already satisfied: pylast in c:\\users\\spenc\\anaconda3\\lib\\site-packages (5.1.0)\n",
      "Requirement already satisfied: httpx in c:\\users\\spenc\\anaconda3\\lib\\site-packages (from pylast) (0.24.0)\n",
      "Requirement already satisfied: certifi in c:\\users\\spenc\\anaconda3\\lib\\site-packages (from httpx->pylast) (2021.10.8)\n",
      "Requirement already satisfied: httpcore<0.18.0,>=0.15.0 in c:\\users\\spenc\\anaconda3\\lib\\site-packages (from httpx->pylast) (0.17.0)\n",
      "Requirement already satisfied: idna in c:\\users\\spenc\\anaconda3\\lib\\site-packages (from httpx->pylast) (3.2)\n",
      "Requirement already satisfied: sniffio in c:\\users\\spenc\\anaconda3\\lib\\site-packages (from httpx->pylast) (1.2.0)\n",
      "Requirement already satisfied: h11<0.15,>=0.13 in c:\\users\\spenc\\anaconda3\\lib\\site-packages (from httpcore<0.18.0,>=0.15.0->httpx->pylast) (0.14.0)\n",
      "Requirement already satisfied: anyio<5.0,>=3.0 in c:\\users\\spenc\\anaconda3\\lib\\site-packages (from httpcore<0.18.0,>=0.15.0->httpx->pylast) (3.6.2)\n",
      "Note: you may need to restart the kernel to use updated packages.\n"
     ]
    }
   ],
   "source": [
    "pip install pylast"
   ]
  },
  {
   "cell_type": "code",
   "execution_count": 11,
   "id": "a3b1eaae",
   "metadata": {},
   "outputs": [],
   "source": [
    "import pylast"
   ]
  },
  {
   "cell_type": "code",
   "execution_count": 12,
   "id": "19d853de",
   "metadata": {},
   "outputs": [],
   "source": [
    "network = pylast.LastFMNetwork(api_key=api_key, api_secret=api_secret) # установка соединения с сервером"
   ]
  },
  {
   "cell_type": "code",
   "execution_count": 13,
   "id": "e5b8f793",
   "metadata": {},
   "outputs": [],
   "source": [
    "import time\n",
    "time.sleep(4)"
   ]
  },
  {
   "cell_type": "markdown",
   "id": "72319e62",
   "metadata": {},
   "source": [
    "Если посмотреть на infa, то можно заметить, что в песнях присутствует параметр 'duration', однако он везде равен нулю. Поэтому уже для имеющихся песен нам пришлось доставать их длительность и жанр (важные признаки) с помощью уже другого метода track.getInfo, что добавило еще один цикл (но по-другому мы не смогли). "
   ]
  },
  {
   "cell_type": "code",
   "execution_count": 14,
   "id": "6d769f79",
   "metadata": {},
   "outputs": [],
   "source": [
    "for track in range(len(track_list)):\n",
    "    # получаем информацию о треке\n",
    "    artist_name = track_list[track]['artist_name']\n",
    "    song_name = track_list[track]['song_name']\n",
    "    track_info = network.get_track(artist_name, song_name)\n",
    "    top_tag = track_info.get_top_tags(limit=1)\n",
    "\n",
    "    track_list[track]['duration'] = track_info.get_duration()\n",
    "    track_list[track]['tag']=top_tag[0][0].name if top_tag else \"Unknown\""
   ]
  },
  {
   "cell_type": "code",
   "execution_count": 18,
   "id": "0a9eaf69",
   "metadata": {},
   "outputs": [],
   "source": [
    "df_tracks=pd.DataFrame(track_list)"
   ]
  },
  {
   "cell_type": "code",
   "execution_count": 20,
   "id": "2025fba5",
   "metadata": {},
   "outputs": [],
   "source": [
    "df_tracks.to_csv('tracks_result.csv', index=False)"
   ]
  },
  {
   "cell_type": "code",
   "execution_count": null,
   "id": "428e311c",
   "metadata": {},
   "outputs": [],
   "source": []
  }
 ],
 "metadata": {
  "kernelspec": {
   "display_name": "Python 3 (ipykernel)",
   "language": "python",
   "name": "python3"
  },
  "language_info": {
   "codemirror_mode": {
    "name": "ipython",
    "version": 3
   },
   "file_extension": ".py",
   "mimetype": "text/x-python",
   "name": "python",
   "nbconvert_exporter": "python",
   "pygments_lexer": "ipython3",
   "version": "3.9.7"
  }
 },
 "nbformat": 4,
 "nbformat_minor": 5
}
