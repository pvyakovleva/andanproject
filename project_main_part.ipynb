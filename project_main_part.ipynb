{
 "cells": [
  {
   "cell_type": "code",
   "execution_count": 1,
   "id": "c6415347",
   "metadata": {},
   "outputs": [],
   "source": [
    "import numpy as np\n",
    "import pandas as pd\n",
    "\n",
    "import scipy.stats as sts\n",
    "import matplotlib.pyplot as plt\n",
    "import seaborn as sns"
   ]
  },
  {
   "cell_type": "code",
   "execution_count": 2,
   "id": "fce00164",
   "metadata": {},
   "outputs": [],
   "source": [
    "df = pd.read_csv('tracks_result.csv', sep=',')"
   ]
  },
  {
   "cell_type": "code",
   "execution_count": 3,
   "id": "27a1470a",
   "metadata": {},
   "outputs": [
    {
     "data": {
      "text/plain": [
       "artist_name      0\n",
       "song_name        0\n",
       "duration       596\n",
       "playcount        0\n",
       "listeners        0\n",
       "tag              0\n",
       "dtype: int64"
      ]
     },
     "execution_count": 3,
     "metadata": {},
     "output_type": "execute_result"
    }
   ],
   "source": [
    "(df==0).sum() # проверили массив на нулевые значения"
   ]
  },
  {
   "cell_type": "code",
   "execution_count": 4,
   "id": "61c1d194",
   "metadata": {},
   "outputs": [
    {
     "data": {
      "text/plain": [
       "35"
      ]
     },
     "execution_count": 4,
     "metadata": {},
     "output_type": "execute_result"
    }
   ],
   "source": [
    "(df.tag=='Unknown').sum() # сколько песен не имеют определенного тэга (жанра)"
   ]
  },
  {
   "cell_type": "code",
   "execution_count": 5,
   "id": "f33547bc",
   "metadata": {},
   "outputs": [],
   "source": [
    "df.duration=df.duration[:]/60000 # перевели длительность песен из миллисекунд в минуты (в 1 минуте 60000 миллисекунд) для удобства анализа"
   ]
  },
  {
   "cell_type": "code",
   "execution_count": 6,
   "id": "1e4f1a94",
   "metadata": {},
   "outputs": [
    {
     "data": {
      "text/html": [
       "<div>\n",
       "<style scoped>\n",
       "    .dataframe tbody tr th:only-of-type {\n",
       "        vertical-align: middle;\n",
       "    }\n",
       "\n",
       "    .dataframe tbody tr th {\n",
       "        vertical-align: top;\n",
       "    }\n",
       "\n",
       "    .dataframe thead th {\n",
       "        text-align: right;\n",
       "    }\n",
       "</style>\n",
       "<table border=\"1\" class=\"dataframe\">\n",
       "  <thead>\n",
       "    <tr style=\"text-align: right;\">\n",
       "      <th></th>\n",
       "      <th>artist_name</th>\n",
       "      <th>song_name</th>\n",
       "      <th>duration</th>\n",
       "      <th>playcount</th>\n",
       "      <th>listeners</th>\n",
       "      <th>tag</th>\n",
       "    </tr>\n",
       "  </thead>\n",
       "  <tbody>\n",
       "    <tr>\n",
       "      <th>0</th>\n",
       "      <td>SZA</td>\n",
       "      <td>Kill Bill</td>\n",
       "      <td>2.566667</td>\n",
       "      <td>17429320</td>\n",
       "      <td>987007</td>\n",
       "      <td>pop</td>\n",
       "    </tr>\n",
       "    <tr>\n",
       "      <th>1</th>\n",
       "      <td>Tyler, the Creator</td>\n",
       "      <td>See You Again (feat. Kali Uchis)</td>\n",
       "      <td>3.000000</td>\n",
       "      <td>16466512</td>\n",
       "      <td>1002965</td>\n",
       "      <td>rap</td>\n",
       "    </tr>\n",
       "    <tr>\n",
       "      <th>2</th>\n",
       "      <td>pinkpantheress</td>\n",
       "      <td>Boy's a liar Pt. 2</td>\n",
       "      <td>0.000000</td>\n",
       "      <td>8772363</td>\n",
       "      <td>724864</td>\n",
       "      <td>rap</td>\n",
       "    </tr>\n",
       "    <tr>\n",
       "      <th>3</th>\n",
       "      <td>Frank Ocean</td>\n",
       "      <td>Pink + White</td>\n",
       "      <td>3.066667</td>\n",
       "      <td>21272327</td>\n",
       "      <td>1105199</td>\n",
       "      <td>rnb</td>\n",
       "    </tr>\n",
       "    <tr>\n",
       "      <th>4</th>\n",
       "      <td>Fifty Fifty</td>\n",
       "      <td>Cupid - Twin Ver.</td>\n",
       "      <td>0.000000</td>\n",
       "      <td>3895874</td>\n",
       "      <td>355420</td>\n",
       "      <td>pop</td>\n",
       "    </tr>\n",
       "    <tr>\n",
       "      <th>...</th>\n",
       "      <td>...</td>\n",
       "      <td>...</td>\n",
       "      <td>...</td>\n",
       "      <td>...</td>\n",
       "      <td>...</td>\n",
       "      <td>...</td>\n",
       "    </tr>\n",
       "    <tr>\n",
       "      <th>2145</th>\n",
       "      <td>Ariana Grande</td>\n",
       "      <td>pov</td>\n",
       "      <td>3.333333</td>\n",
       "      <td>7396618</td>\n",
       "      <td>472265</td>\n",
       "      <td>rnb</td>\n",
       "    </tr>\n",
       "    <tr>\n",
       "      <th>2146</th>\n",
       "      <td>Nirvana</td>\n",
       "      <td>All Apologies</td>\n",
       "      <td>4.016667</td>\n",
       "      <td>9185567</td>\n",
       "      <td>1364470</td>\n",
       "      <td>Grunge</td>\n",
       "    </tr>\n",
       "    <tr>\n",
       "      <th>2147</th>\n",
       "      <td>NMixx</td>\n",
       "      <td>DICE</td>\n",
       "      <td>0.000000</td>\n",
       "      <td>4006601</td>\n",
       "      <td>177227</td>\n",
       "      <td>banger cry about it</td>\n",
       "    </tr>\n",
       "    <tr>\n",
       "      <th>2148</th>\n",
       "      <td>SZA</td>\n",
       "      <td>Doves in the Wind (feat. Kendrick Lamar)</td>\n",
       "      <td>4.433333</td>\n",
       "      <td>3815810</td>\n",
       "      <td>387544</td>\n",
       "      <td>alternative rnb</td>\n",
       "    </tr>\n",
       "    <tr>\n",
       "      <th>2149</th>\n",
       "      <td>SZA</td>\n",
       "      <td>SOS</td>\n",
       "      <td>1.950000</td>\n",
       "      <td>2878614</td>\n",
       "      <td>443878</td>\n",
       "      <td>rnb</td>\n",
       "    </tr>\n",
       "  </tbody>\n",
       "</table>\n",
       "<p>2150 rows × 6 columns</p>\n",
       "</div>"
      ],
      "text/plain": [
       "             artist_name                                 song_name  duration  \\\n",
       "0                    SZA                                 Kill Bill  2.566667   \n",
       "1     Tyler, the Creator          See You Again (feat. Kali Uchis)  3.000000   \n",
       "2         pinkpantheress                        Boy's a liar Pt. 2  0.000000   \n",
       "3            Frank Ocean                              Pink + White  3.066667   \n",
       "4            Fifty Fifty                         Cupid - Twin Ver.  0.000000   \n",
       "...                  ...                                       ...       ...   \n",
       "2145       Ariana Grande                                       pov  3.333333   \n",
       "2146             Nirvana                             All Apologies  4.016667   \n",
       "2147               NMixx                                      DICE  0.000000   \n",
       "2148                 SZA  Doves in the Wind (feat. Kendrick Lamar)  4.433333   \n",
       "2149                 SZA                                       SOS  1.950000   \n",
       "\n",
       "      playcount  listeners                  tag  \n",
       "0      17429320     987007                  pop  \n",
       "1      16466512    1002965                  rap  \n",
       "2       8772363     724864                  rap  \n",
       "3      21272327    1105199                  rnb  \n",
       "4       3895874     355420                  pop  \n",
       "...         ...        ...                  ...  \n",
       "2145    7396618     472265                  rnb  \n",
       "2146    9185567    1364470               Grunge  \n",
       "2147    4006601     177227  banger cry about it  \n",
       "2148    3815810     387544      alternative rnb  \n",
       "2149    2878614     443878                  rnb  \n",
       "\n",
       "[2150 rows x 6 columns]"
      ]
     },
     "execution_count": 6,
     "metadata": {},
     "output_type": "execute_result"
    }
   ],
   "source": [
    "df"
   ]
  },
  {
   "cell_type": "code",
   "execution_count": 9,
   "id": "c9af4f2c",
   "metadata": {},
   "outputs": [
    {
     "name": "stderr",
     "output_type": "stream",
     "text": [
      "C:\\Users\\spenc\\anaconda3\\lib\\site-packages\\seaborn\\_decorators.py:36: FutureWarning: Pass the following variable as a keyword arg: x. From version 0.12, the only valid positional argument will be `data`, and passing other arguments without an explicit keyword will result in an error or misinterpretation.\n",
      "  warnings.warn(\n"
     ]
    },
    {
     "data": {
      "text/plain": [
       "<AxesSubplot:xlabel='duration'>"
      ]
     },
     "execution_count": 9,
     "metadata": {},
     "output_type": "execute_result"
    },
    {
     "data": {
      "image/png": "[encoded data removed]",
      "text/plain": [
       "<Figure size 432x288 with 1 Axes>"
      ]
     },
     "metadata": {
      "needs_background": "light"
     },
     "output_type": "display_data"
    }
   ],
   "source": [
    "# график 1\n",
    "sns.boxplot(df.duration)"
   ]
  },
  {
   "cell_type": "code",
   "execution_count": 10,
   "id": "e0a3a154",
   "metadata": {},
   "outputs": [
    {
     "data": {
      "text/plain": [
       "12.866666666666667"
      ]
     },
     "execution_count": 10,
     "metadata": {},
     "output_type": "execute_result"
    }
   ],
   "source": [
    "df.duration.max()"
   ]
  },
  {
   "cell_type": "markdown",
   "id": "3ae0ac00",
   "metadata": {},
   "source": [
    "График 1 показывает, что в продолжительности песен есть выбросы. Проверили на максимальное значение, получилось почти 13 минут, что очень нестандартно для нынешних композиций. "
   ]
  },
  {
   "cell_type": "code",
   "execution_count": 28,
   "id": "ceaf6ca9",
   "metadata": {},
   "outputs": [],
   "source": [
    "df.duration.replace(0, df.duration.median(), inplace=True) "
   ]
  },
  {
   "cell_type": "markdown",
   "id": "bc34a91d",
   "metadata": {},
   "source": [
    "Заменим нулевые значения переменной duration на медиану по этому признаку, так как она менее чувтвительна к выбросам"
   ]
  },
  {
   "cell_type": "code",
   "execution_count": 20,
   "id": "6ae0e007",
   "metadata": {},
   "outputs": [
    {
     "data": {
      "text/plain": [
       "<AxesSubplot:>"
      ]
     },
     "execution_count": 20,
     "metadata": {},
     "output_type": "execute_result"
    },
    {
     "data": {
      "image/png": "[encoded data removed]",
      "text/plain": [
       "<Figure size 432x288 with 1 Axes>"
      ]
     },
     "metadata": {
      "needs_background": "light"
     },
     "output_type": "display_data"
    }
   ],
   "source": [
    "# график 2\n",
    "(df.playcount).hist(bins=50)"
   ]
  },
  {
   "cell_type": "markdown",
   "id": "c5f59676",
   "metadata": {},
   "source": [
    "Распределение переменной playcount не является нормальным, но немного похоже на него."
   ]
  },
  {
   "cell_type": "code",
   "execution_count": 21,
   "id": "36ff9498",
   "metadata": {},
   "outputs": [
    {
     "data": {
      "text/plain": [
       "<AxesSubplot:>"
      ]
     },
     "execution_count": 21,
     "metadata": {},
     "output_type": "execute_result"
    },
    {
     "data": {
      "image/png": "[encoded data removed]",
      "text/plain": [
       "<Figure size 432x288 with 1 Axes>"
      ]
     },
     "metadata": {
      "needs_background": "light"
     },
     "output_type": "display_data"
    }
   ],
   "source": [
    "# график 2\n",
    "(df.listeners).hist(bins=50)"
   ]
  },
  {
   "cell_type": "markdown",
   "id": "2e75f54f",
   "metadata": {},
   "source": [
    "Распределение переменной listeners не похоже на нормальное, можно дегко заметить его несемметричность."
   ]
  },
  {
   "cell_type": "markdown",
   "id": "424eedd7",
   "metadata": {},
   "source": [
    "На данный момент визуализаций и обратки данных мало, так как мы смогли полностью спарсить данные только 15.05.2023 (но работали над этим достаточно давно)\n",
    "В дальнейшем планируем плотно над этим поработать, пока сделали то, что смогли.\n",
    "Подробнее о планах: \n",
    "Хотим получить новые признаки (длинна названия песни, стандартное отклонение количества слушателей, возможны дополнения)\n",
    "Модель машинного обучения будет предсказывать количество стримов (playcounts), с моделью еще не определились, будем смотреть, то что лучше работает (регрессия, случайный лес, тд.)\n",
    "Насчет конкретных гипотез мы еще не определились, но можем проверить гипотезу о равенстве популярности конкретных жанров.\n",
    "\n"
   ]
  },
  {
   "cell_type": "code",
   "execution_count": null,
   "id": "04df035f",
   "metadata": {},
   "outputs": [],
   "source": []
  }
 ],
 "metadata": {
  "kernelspec": {
   "display_name": "Python 3 (ipykernel)",
   "language": "python",
   "name": "python3"
  },
  "language_info": {
   "codemirror_mode": {
    "name": "ipython",
    "version": 3
   },
   "file_extension": ".py",
   "mimetype": "text/x-python",
   "name": "python",
   "nbconvert_exporter": "python",
   "pygments_lexer": "ipython3",
   "version": "3.9.7"
  }
 },
 "nbformat": 4,
 "nbformat_minor": 5
}
