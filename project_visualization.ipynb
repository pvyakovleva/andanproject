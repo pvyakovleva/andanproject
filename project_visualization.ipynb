{
 "cells": [
  {
   "cell_type": "code",
   "execution_count": 1,
   "id": "c6415347",
   "metadata": {},
   "outputs": [],
   "source": [
    "import numpy as np\n",
    "import pandas as pd\n",
    "\n",
    "import scipy.stats as sts\n",
    "import matplotlib.pyplot as plt\n",
    "import seaborn as sns"
   ]
  },
  {
   "cell_type": "markdown",
   "id": "e50115be",
   "metadata": {},
   "source": [
    "### Визуализация, оработка, новые переменные"
   ]
  },
  {
   "cell_type": "code",
   "execution_count": 2,
   "id": "fce00164",
   "metadata": {},
   "outputs": [],
   "source": [
    "df = pd.read_csv('tracks_result_1.csv', sep=',')"
   ]
  },
  {
   "cell_type": "code",
   "execution_count": 3,
   "id": "cbd0f3a4",
   "metadata": {},
   "outputs": [],
   "source": [
    "df.drop_duplicates(subset=None, keep='first', inplace=True)"
   ]
  },
  {
   "cell_type": "code",
   "execution_count": 4,
   "id": "27a1470a",
   "metadata": {},
   "outputs": [
    {
     "data": {
      "text/plain": [
       "artist_name      0\n",
       "song_name        0\n",
       "duration       334\n",
       "playcount        0\n",
       "listeners        0\n",
       "tag              0\n",
       "dtype: int64"
      ]
     },
     "execution_count": 4,
     "metadata": {},
     "output_type": "execute_result"
    }
   ],
   "source": [
    "(df==0).sum() # проверили массив на нулевые значения"
   ]
  },
  {
   "cell_type": "code",
   "execution_count": 5,
   "id": "61c1d194",
   "metadata": {},
   "outputs": [
    {
     "data": {
      "text/plain": [
       "22"
      ]
     },
     "execution_count": 5,
     "metadata": {},
     "output_type": "execute_result"
    }
   ],
   "source": [
    "(df.tag=='Unknown').sum() # сколько песен не имеют определенного тэга "
   ]
  },
  {
   "cell_type": "code",
   "execution_count": 6,
   "id": "f33547bc",
   "metadata": {},
   "outputs": [],
   "source": [
    "df.duration=df.duration[:]/60000 # перевели длительность песен из миллисекунд в минуты (в 1 минуте 60000 миллисекунд) для удобства анализа"
   ]
  },
  {
   "cell_type": "markdown",
   "id": "f92124ca",
   "metadata": {},
   "source": [
    "В массиве мы имеем имена исполнителей, название треков, их длительность, количество стримов, а также подписчики исполнителя и тэги"
   ]
  },
  {
   "cell_type": "code",
   "execution_count": 7,
   "id": "c9af4f2c",
   "metadata": {},
   "outputs": [
    {
     "data": {
      "text/plain": [
       "Text(0.5, 1.0, 'Duration')"
      ]
     },
     "execution_count": 7,
     "metadata": {},
     "output_type": "execute_result"
    },
    {
     "data": {
      "image/png": "[encoded data removed]",
      "text/plain": [
       "<Figure size 432x288 with 1 Axes>"
      ]
     },
     "metadata": {
      "needs_background": "light"
     },
     "output_type": "display_data"
    }
   ],
   "source": [
    "# график 1\n",
    "sns.boxplot(x=df.duration)\n",
    "plt.xlabel('Minutes')\n",
    "plt.title('Duration')"
   ]
  },
  {
   "cell_type": "code",
   "execution_count": 8,
   "id": "e0a3a154",
   "metadata": {},
   "outputs": [
    {
     "data": {
      "text/plain": [
       "12.866666666666667"
      ]
     },
     "execution_count": 8,
     "metadata": {},
     "output_type": "execute_result"
    }
   ],
   "source": [
    "df.duration.max()"
   ]
  },
  {
   "cell_type": "code",
   "execution_count": 9,
   "id": "a9cc7000",
   "metadata": {},
   "outputs": [
    {
     "data": {
      "text/plain": [
       "3.1666666666666665"
      ]
     },
     "execution_count": 9,
     "metadata": {},
     "output_type": "execute_result"
    }
   ],
   "source": [
    "df.duration.median() # значение медианы"
   ]
  },
  {
   "cell_type": "markdown",
   "id": "3ae0ac00",
   "metadata": {},
   "source": [
    "График 1 показывает, что в продолжительности песен есть выбросы. Проверили на максимальное значение, получилось почти 13 минут, что очень нестандартно для нынешних композиций. "
   ]
  },
  {
   "cell_type": "code",
   "execution_count": 10,
   "id": "ceaf6ca9",
   "metadata": {},
   "outputs": [],
   "source": [
    "df.duration.replace(0, df.duration.median(), inplace=True) "
   ]
  },
  {
   "cell_type": "code",
   "execution_count": 11,
   "id": "f6d159c5",
   "metadata": {},
   "outputs": [],
   "source": [
    "df=df[df.duration<=6]"
   ]
  },
  {
   "cell_type": "markdown",
   "id": "bc34a91d",
   "metadata": {},
   "source": [
    "Заменим нулевые значения переменной duration на медиану по этому признаку, так как она менее чувтвительна к выбросам. Уберём треки, длительность которых превышает 6 минут, чтобы избавиться от возможных выбросов. Экстремальные значения переменной playcount не будем, так как это нормально, что какие-то песни лидируют по прослушиваниям."
   ]
  },
  {
   "cell_type": "code",
   "execution_count": 12,
   "id": "6ae0e007",
   "metadata": {},
   "outputs": [
    {
     "data": {
      "text/plain": [
       "Text(0.5, 1.0, 'Распределение playcount')"
      ]
     },
     "execution_count": 12,
     "metadata": {},
     "output_type": "execute_result"
    },
    {
     "data": {
      "image/png": "[encoded data removed]",
      "text/plain": [
       "<Figure size 432x288 with 1 Axes>"
      ]
     },
     "metadata": {
      "needs_background": "light"
     },
     "output_type": "display_data"
    }
   ],
   "source": [
    "# график 2\n",
    "(df.playcount).hist(bins=50)\n",
    "plt.xlabel('Playcounts')\n",
    "plt.title('Распределение playcount')"
   ]
  },
  {
   "cell_type": "markdown",
   "id": "c5f59676",
   "metadata": {},
   "source": [
    "Распределение переменной playcount не является нормальным, но немного похоже на него."
   ]
  },
  {
   "cell_type": "code",
   "execution_count": 13,
   "id": "36ff9498",
   "metadata": {},
   "outputs": [
    {
     "data": {
      "text/plain": [
       "Text(0.5, 1.0, 'Распределение listeners')"
      ]
     },
     "execution_count": 13,
     "metadata": {},
     "output_type": "execute_result"
    },
    {
     "data": {
      "image/png": "[encoded data removed]",
      "text/plain": [
       "<Figure size 432x288 with 1 Axes>"
      ]
     },
     "metadata": {
      "needs_background": "light"
     },
     "output_type": "display_data"
    }
   ],
   "source": [
    "# график 3\n",
    "(df.listeners).hist(bins=50)\n",
    "plt.xlabel('Listeners')\n",
    "plt.title('Распределение listeners')"
   ]
  },
  {
   "cell_type": "markdown",
   "id": "2e75f54f",
   "metadata": {},
   "source": [
    "Распределение переменной listeners не похоже на нормальное, можно дегко заметить его несемметричность."
   ]
  },
  {
   "cell_type": "code",
   "execution_count": 14,
   "id": "04df035f",
   "metadata": {},
   "outputs": [
    {
     "data": {
      "text/plain": [
       "159"
      ]
     },
     "execution_count": 14,
     "metadata": {},
     "output_type": "execute_result"
    }
   ],
   "source": [
    "len(np.unique(df.tag)) "
   ]
  },
  {
   "cell_type": "markdown",
   "id": "510af61e",
   "metadata": {},
   "source": [
    "159 уникальных тэгов, что на самом деле очень много, среди них есть не только жанры, но и имена исполнителей, различные ответвления жанров и тд."
   ]
  },
  {
   "cell_type": "code",
   "execution_count": 15,
   "id": "ef823d8b",
   "metadata": {},
   "outputs": [
    {
     "data": {
      "text/plain": [
       "Text(0.5, 1.0, 'Распределение duration')"
      ]
     },
     "execution_count": 15,
     "metadata": {},
     "output_type": "execute_result"
    },
    {
     "data": {
      "image/png": "[encoded data removed]",
      "text/plain": [
       "<Figure size 432x288 with 1 Axes>"
      ]
     },
     "metadata": {
      "needs_background": "light"
     },
     "output_type": "display_data"
    }
   ],
   "source": [
    "# график 4\n",
    "(df.duration).hist(bins=50)\n",
    "plt.xlabel('duration')\n",
    "plt.title('Распределение duration')"
   ]
  },
  {
   "cell_type": "markdown",
   "id": "3521cb48",
   "metadata": {},
   "source": [
    "По графику можно заметить, что большинство треков имеют длительность около 3 минут"
   ]
  },
  {
   "cell_type": "code",
   "execution_count": 16,
   "id": "bdf00219",
   "metadata": {},
   "outputs": [],
   "source": [
    "top=df.tag.value_counts()[:10].index.values"
   ]
  },
  {
   "cell_type": "markdown",
   "id": "8e04aadd",
   "metadata": {},
   "source": [
    "Посмотрели сколько наблюдений по каждому тегу и обнаружили, что в массиве данных присутствуют теги, которым соответсвует незначительное количество наблюдений (1), что свидетельствует о нерепрезентативности тега как жанра. Поэтому для удобства интерпретации исследования оставим топ-10 тегов по количеству наблюдений."
   ]
  },
  {
   "cell_type": "code",
   "execution_count": 17,
   "id": "b16ea3cb",
   "metadata": {},
   "outputs": [],
   "source": [
    "df_top=df[df.tag.isin(list(df.tag.value_counts()[:10].index.values))]"
   ]
  },
  {
   "cell_type": "code",
   "execution_count": 18,
   "id": "9a153061",
   "metadata": {},
   "outputs": [
    {
     "data": {
      "text/plain": [
       "Text(0.5, 1.0, 'Top-1o tags')"
      ]
     },
     "execution_count": 18,
     "metadata": {},
     "output_type": "execute_result"
    },
    {
     "data": {
      "image/png": "[encoded data removed]",
      "text/plain": [
       "<Figure size 360x360 with 1 Axes>"
      ]
     },
     "metadata": {
      "needs_background": "light"
     },
     "output_type": "display_data"
    }
   ],
   "source": [
    "# график 5\n",
    "sns.catplot(x='tag', data=df_top, kind='count')\n",
    "plt.xlabel('tag')\n",
    "plt.title('Top-1o tags')"
   ]
  },
  {
   "cell_type": "markdown",
   "id": "105bffd0",
   "metadata": {},
   "source": [
    "Визуально по количеству наблюдений больше всего треков в жанре pop"
   ]
  },
  {
   "cell_type": "code",
   "execution_count": 19,
   "id": "349c5dd3",
   "metadata": {},
   "outputs": [
    {
     "data": {
      "text/plain": [
       "Text(0, 0.5, 'Playcount')"
      ]
     },
     "execution_count": 19,
     "metadata": {},
     "output_type": "execute_result"
    },
    {
     "data": {
      "image/png": "[encoded data removed]",
      "text/plain": [
       "<Figure size 432x288 with 1 Axes>"
      ]
     },
     "metadata": {
      "needs_background": "light"
     },
     "output_type": "display_data"
    }
   ],
   "source": [
    "# график 6\n",
    "plt.stem(df_top[['playcount', 'tag']].groupby('tag').sum().index, df_top[['playcount', 'tag']].groupby('tag').sum().playcount)\n",
    "plt.xlabel('tag')\n",
    "plt.title('Топ жанров по прослушиваниям')\n",
    "plt.ylabel('Playcount')"
   ]
  },
  {
   "cell_type": "code",
   "execution_count": 28,
   "id": "c806e969",
   "metadata": {},
   "outputs": [
    {
     "data": {
      "text/plain": [
       "Text(0.5, 1.0, 'Распределение playcount в тэге pop')"
      ]
     },
     "execution_count": 28,
     "metadata": {},
     "output_type": "execute_result"
    },
    {
     "data": {
      "image/png": "[encoded data removed]",
      "text/plain": [
       "<Figure size 432x288 with 1 Axes>"
      ]
     },
     "metadata": {
      "needs_background": "light"
     },
     "output_type": "display_data"
    }
   ],
   "source": [
    "# график 7\n",
    "plt.hist(df_top[df_top.tag=='pop'].playcount)\n",
    "plt.xlabel('tag')\n",
    "plt.title('Распределение playcount в тэге pop')"
   ]
  },
  {
   "cell_type": "code",
   "execution_count": 31,
   "id": "e1071127",
   "metadata": {},
   "outputs": [
    {
     "data": {
      "text/plain": [
       "(array([4., 0., 4., 8., 3., 2., 4., 1., 0., 1.]),\n",
       " array([  682782. ,  2401370.3,  4119958.6,  5838546.9,  7557135.2,\n",
       "         9275723.5, 10994311.8, 12712900.1, 14431488.4, 16150076.7,\n",
       "        17868665. ]),\n",
       " <BarContainer object of 10 artists>)"
      ]
     },
     "execution_count": 31,
     "metadata": {},
     "output_type": "execute_result"
    },
    {
     "data": {
      "image/png": "[encoded data removed]",
      "text/plain": [
       "<Figure size 432x288 with 1 Axes>"
      ]
     },
     "metadata": {
      "needs_background": "light"
     },
     "output_type": "display_data"
    }
   ],
   "source": [
    "# график 8\n",
    "plt.hist(df_top[df_top.tag=='k-pop'].playcount)\n",
    "plt.hist(df_top[df_top.tag=='folk'].playcount)"
   ]
  },
  {
   "cell_type": "code",
   "execution_count": 32,
   "id": "3278deac",
   "metadata": {},
   "outputs": [
    {
     "data": {
      "text/plain": [
       "(array([ 9., 12., 11., 15.,  4.,  6.,  3.,  0.,  0.,  1.]),\n",
       " array([ 1493009. ,  4429301.5,  7365594. , 10301886.5, 13238179. ,\n",
       "        16174471.5, 19110764. , 22047056.5, 24983349. , 27919641.5,\n",
       "        30855934. ]),\n",
       " <BarContainer object of 10 artists>)"
      ]
     },
     "execution_count": 32,
     "metadata": {},
     "output_type": "execute_result"
    },
    {
     "data": {
      "image/png": "[encoded data removed]",
      "text/plain": [
       "<Figure size 432x288 with 1 Axes>"
      ]
     },
     "metadata": {
      "needs_background": "light"
     },
     "output_type": "display_data"
    }
   ],
   "source": [
    "# график 9\n",
    "plt.hist(df_top[df_top.tag=='indie'].playcount)\n",
    "plt.hist(df_top[df_top.tag=='rock'].playcount)"
   ]
  },
  {
   "cell_type": "markdown",
   "id": "5b5ffe7e",
   "metadata": {},
   "source": [
    "Выводы к графикам 7-9: Что мы наблюдаем: тэг pop в сумме набрал наибольшее число суммарных стримов (playcount). Визуально у тэгов folk и k-pop одинаковое число суммарных playcounts (а имеют ли они одно распределение?). Именно эти гипотезы мы и проверим далее"
   ]
  },
  {
   "cell_type": "markdown",
   "id": "ee1738ab",
   "metadata": {},
   "source": [
    "### Новые переменные"
   ]
  },
  {
   "cell_type": "code",
   "execution_count": 20,
   "id": "7ec629b2",
   "metadata": {},
   "outputs": [],
   "source": [
    "df['name_size'] = df['song_name'].apply(len)"
   ]
  },
  {
   "cell_type": "code",
   "execution_count": 21,
   "id": "8b909520",
   "metadata": {},
   "outputs": [],
   "source": [
    "df['playcounts_per_listener']=df['playcount']/df['listeners']"
   ]
  },
  {
   "cell_type": "code",
   "execution_count": 22,
   "id": "fffa376c",
   "metadata": {},
   "outputs": [
    {
     "data": {
      "text/html": [
       "<div>\n",
       "<style scoped>\n",
       "    .dataframe tbody tr th:only-of-type {\n",
       "        vertical-align: middle;\n",
       "    }\n",
       "\n",
       "    .dataframe tbody tr th {\n",
       "        vertical-align: top;\n",
       "    }\n",
       "\n",
       "    .dataframe thead th {\n",
       "        text-align: right;\n",
       "    }\n",
       "</style>\n",
       "<table border=\"1\" class=\"dataframe\">\n",
       "  <thead>\n",
       "    <tr style=\"text-align: right;\">\n",
       "      <th></th>\n",
       "      <th>artist_name</th>\n",
       "      <th>song_name</th>\n",
       "      <th>duration</th>\n",
       "      <th>playcount</th>\n",
       "      <th>listeners</th>\n",
       "      <th>tag</th>\n",
       "      <th>name_size</th>\n",
       "      <th>playcounts_per_listener</th>\n",
       "    </tr>\n",
       "  </thead>\n",
       "  <tbody>\n",
       "    <tr>\n",
       "      <th>0</th>\n",
       "      <td>SZA</td>\n",
       "      <td>Kill Bill</td>\n",
       "      <td>2.566667</td>\n",
       "      <td>17429320</td>\n",
       "      <td>987007</td>\n",
       "      <td>pop</td>\n",
       "      <td>9</td>\n",
       "      <td>17.658760</td>\n",
       "    </tr>\n",
       "    <tr>\n",
       "      <th>1</th>\n",
       "      <td>Tyler, the Creator</td>\n",
       "      <td>See You Again (feat. Kali Uchis)</td>\n",
       "      <td>3.000000</td>\n",
       "      <td>16466512</td>\n",
       "      <td>1002965</td>\n",
       "      <td>rap</td>\n",
       "      <td>32</td>\n",
       "      <td>16.417833</td>\n",
       "    </tr>\n",
       "    <tr>\n",
       "      <th>2</th>\n",
       "      <td>pinkpantheress</td>\n",
       "      <td>Boy's a liar Pt. 2</td>\n",
       "      <td>3.166667</td>\n",
       "      <td>8772363</td>\n",
       "      <td>724864</td>\n",
       "      <td>rap</td>\n",
       "      <td>18</td>\n",
       "      <td>12.102081</td>\n",
       "    </tr>\n",
       "    <tr>\n",
       "      <th>3</th>\n",
       "      <td>Frank Ocean</td>\n",
       "      <td>Pink + White</td>\n",
       "      <td>3.066667</td>\n",
       "      <td>21272327</td>\n",
       "      <td>1105199</td>\n",
       "      <td>rnb</td>\n",
       "      <td>12</td>\n",
       "      <td>19.247508</td>\n",
       "    </tr>\n",
       "    <tr>\n",
       "      <th>4</th>\n",
       "      <td>Fifty Fifty</td>\n",
       "      <td>Cupid - Twin Ver.</td>\n",
       "      <td>3.166667</td>\n",
       "      <td>3895874</td>\n",
       "      <td>355420</td>\n",
       "      <td>pop</td>\n",
       "      <td>17</td>\n",
       "      <td>10.961325</td>\n",
       "    </tr>\n",
       "    <tr>\n",
       "      <th>...</th>\n",
       "      <td>...</td>\n",
       "      <td>...</td>\n",
       "      <td>...</td>\n",
       "      <td>...</td>\n",
       "      <td>...</td>\n",
       "      <td>...</td>\n",
       "      <td>...</td>\n",
       "      <td>...</td>\n",
       "    </tr>\n",
       "    <tr>\n",
       "      <th>2145</th>\n",
       "      <td>Ariana Grande</td>\n",
       "      <td>pov</td>\n",
       "      <td>3.333333</td>\n",
       "      <td>7396618</td>\n",
       "      <td>472265</td>\n",
       "      <td>rnb</td>\n",
       "      <td>3</td>\n",
       "      <td>15.662008</td>\n",
       "    </tr>\n",
       "    <tr>\n",
       "      <th>2146</th>\n",
       "      <td>Nirvana</td>\n",
       "      <td>All Apologies</td>\n",
       "      <td>4.016667</td>\n",
       "      <td>9185567</td>\n",
       "      <td>1364470</td>\n",
       "      <td>Grunge</td>\n",
       "      <td>13</td>\n",
       "      <td>6.731967</td>\n",
       "    </tr>\n",
       "    <tr>\n",
       "      <th>2147</th>\n",
       "      <td>NMixx</td>\n",
       "      <td>DICE</td>\n",
       "      <td>3.166667</td>\n",
       "      <td>4006601</td>\n",
       "      <td>177227</td>\n",
       "      <td>banger cry about it</td>\n",
       "      <td>4</td>\n",
       "      <td>22.607170</td>\n",
       "    </tr>\n",
       "    <tr>\n",
       "      <th>2148</th>\n",
       "      <td>SZA</td>\n",
       "      <td>Doves in the Wind (feat. Kendrick Lamar)</td>\n",
       "      <td>4.433333</td>\n",
       "      <td>3815810</td>\n",
       "      <td>387544</td>\n",
       "      <td>alternative rnb</td>\n",
       "      <td>40</td>\n",
       "      <td>9.846134</td>\n",
       "    </tr>\n",
       "    <tr>\n",
       "      <th>2149</th>\n",
       "      <td>SZA</td>\n",
       "      <td>SOS</td>\n",
       "      <td>1.950000</td>\n",
       "      <td>2878614</td>\n",
       "      <td>443878</td>\n",
       "      <td>rnb</td>\n",
       "      <td>3</td>\n",
       "      <td>6.485147</td>\n",
       "    </tr>\n",
       "  </tbody>\n",
       "</table>\n",
       "<p>1182 rows × 8 columns</p>\n",
       "</div>"
      ],
      "text/plain": [
       "             artist_name                                 song_name  duration  \\\n",
       "0                    SZA                                 Kill Bill  2.566667   \n",
       "1     Tyler, the Creator          See You Again (feat. Kali Uchis)  3.000000   \n",
       "2         pinkpantheress                        Boy's a liar Pt. 2  3.166667   \n",
       "3            Frank Ocean                              Pink + White  3.066667   \n",
       "4            Fifty Fifty                         Cupid - Twin Ver.  3.166667   \n",
       "...                  ...                                       ...       ...   \n",
       "2145       Ariana Grande                                       pov  3.333333   \n",
       "2146             Nirvana                             All Apologies  4.016667   \n",
       "2147               NMixx                                      DICE  3.166667   \n",
       "2148                 SZA  Doves in the Wind (feat. Kendrick Lamar)  4.433333   \n",
       "2149                 SZA                                       SOS  1.950000   \n",
       "\n",
       "      playcount  listeners                  tag  name_size  \\\n",
       "0      17429320     987007                  pop          9   \n",
       "1      16466512    1002965                  rap         32   \n",
       "2       8772363     724864                  rap         18   \n",
       "3      21272327    1105199                  rnb         12   \n",
       "4       3895874     355420                  pop         17   \n",
       "...         ...        ...                  ...        ...   \n",
       "2145    7396618     472265                  rnb          3   \n",
       "2146    9185567    1364470               Grunge         13   \n",
       "2147    4006601     177227  banger cry about it          4   \n",
       "2148    3815810     387544      alternative rnb         40   \n",
       "2149    2878614     443878                  rnb          3   \n",
       "\n",
       "      playcounts_per_listener  \n",
       "0                   17.658760  \n",
       "1                   16.417833  \n",
       "2                   12.102081  \n",
       "3                   19.247508  \n",
       "4                   10.961325  \n",
       "...                       ...  \n",
       "2145                15.662008  \n",
       "2146                 6.731967  \n",
       "2147                22.607170  \n",
       "2148                 9.846134  \n",
       "2149                 6.485147  \n",
       "\n",
       "[1182 rows x 8 columns]"
      ]
     },
     "execution_count": 22,
     "metadata": {},
     "output_type": "execute_result"
    }
   ],
   "source": [
    "df"
   ]
  },
  {
   "cell_type": "markdown",
   "id": "0c0d65f0",
   "metadata": {},
   "source": [
    "В качестве новых признаков мы создали: 1) длина названия песни (name_size): чем она больше, тем сложнее человеку имя трека, а, следовательно, его потом найти и прослушать; 2) Доля прослушиваний на каждого официального подписчика - человека, который добавил трек в свой плейлист (playcounts_per_listener): чем в большее количество плейлистов была добавлена песня, тем больше гарантий того, что число прослушиваний будет расти."
   ]
  },
  {
   "cell_type": "code",
   "execution_count": 23,
   "id": "6a6e2006",
   "metadata": {},
   "outputs": [
    {
     "data": {
      "text/html": [
       "<div>\n",
       "<style scoped>\n",
       "    .dataframe tbody tr th:only-of-type {\n",
       "        vertical-align: middle;\n",
       "    }\n",
       "\n",
       "    .dataframe tbody tr th {\n",
       "        vertical-align: top;\n",
       "    }\n",
       "\n",
       "    .dataframe thead th {\n",
       "        text-align: right;\n",
       "    }\n",
       "</style>\n",
       "<table border=\"1\" class=\"dataframe\">\n",
       "  <thead>\n",
       "    <tr style=\"text-align: right;\">\n",
       "      <th></th>\n",
       "      <th>duration</th>\n",
       "      <th>playcount</th>\n",
       "      <th>listeners</th>\n",
       "      <th>name_size</th>\n",
       "      <th>playcounts_per_listener</th>\n",
       "    </tr>\n",
       "  </thead>\n",
       "  <tbody>\n",
       "    <tr>\n",
       "      <th>duration</th>\n",
       "      <td>1.000000</td>\n",
       "      <td>0.144162</td>\n",
       "      <td>0.271058</td>\n",
       "      <td>-0.020666</td>\n",
       "      <td>-0.063262</td>\n",
       "    </tr>\n",
       "    <tr>\n",
       "      <th>playcount</th>\n",
       "      <td>0.144162</td>\n",
       "      <td>1.000000</td>\n",
       "      <td>0.611004</td>\n",
       "      <td>-0.124398</td>\n",
       "      <td>0.504185</td>\n",
       "    </tr>\n",
       "    <tr>\n",
       "      <th>listeners</th>\n",
       "      <td>0.271058</td>\n",
       "      <td>0.611004</td>\n",
       "      <td>1.000000</td>\n",
       "      <td>-0.110498</td>\n",
       "      <td>-0.189819</td>\n",
       "    </tr>\n",
       "    <tr>\n",
       "      <th>name_size</th>\n",
       "      <td>-0.020666</td>\n",
       "      <td>-0.124398</td>\n",
       "      <td>-0.110498</td>\n",
       "      <td>1.000000</td>\n",
       "      <td>-0.040496</td>\n",
       "    </tr>\n",
       "    <tr>\n",
       "      <th>playcounts_per_listener</th>\n",
       "      <td>-0.063262</td>\n",
       "      <td>0.504185</td>\n",
       "      <td>-0.189819</td>\n",
       "      <td>-0.040496</td>\n",
       "      <td>1.000000</td>\n",
       "    </tr>\n",
       "  </tbody>\n",
       "</table>\n",
       "</div>"
      ],
      "text/plain": [
       "                         duration  playcount  listeners  name_size  \\\n",
       "duration                 1.000000   0.144162   0.271058  -0.020666   \n",
       "playcount                0.144162   1.000000   0.611004  -0.124398   \n",
       "listeners                0.271058   0.611004   1.000000  -0.110498   \n",
       "name_size               -0.020666  -0.124398  -0.110498   1.000000   \n",
       "playcounts_per_listener -0.063262   0.504185  -0.189819  -0.040496   \n",
       "\n",
       "                         playcounts_per_listener  \n",
       "duration                               -0.063262  \n",
       "playcount                               0.504185  \n",
       "listeners                              -0.189819  \n",
       "name_size                              -0.040496  \n",
       "playcounts_per_listener                 1.000000  "
      ]
     },
     "execution_count": 23,
     "metadata": {},
     "output_type": "execute_result"
    }
   ],
   "source": [
    "df[['duration', 'playcount', 'listeners', 'name_size', 'playcounts_per_listener']].corr()"
   ]
  },
  {
   "cell_type": "code",
   "execution_count": 24,
   "id": "542094b8",
   "metadata": {},
   "outputs": [
    {
     "data": {
      "image/png": "[encoded data removed]",
      "text/plain": [
       "<Figure size 432x288 with 2 Axes>"
      ]
     },
     "metadata": {
      "needs_background": "light"
     },
     "output_type": "display_data"
    }
   ],
   "source": [
    "# график 10\n",
    "plt.title('Correlation matrix')\n",
    "sns.heatmap(df[['duration', 'playcount', 'listeners', 'name_size', 'playcounts_per_listener']].corr(method='pearson'), \n",
    "            square=True, annot=True, fmt=\".1f\", \n",
    "            linewidths=0.1, cmap=\"RdBu\");\n"
   ]
  },
  {
   "cell_type": "markdown",
   "id": "69d627cb",
   "metadata": {},
   "source": [
    "Заметим, что name_size действительно оказывает отрицательное влияние на количество playcount и listeners; \n",
    "между duration и playcount/listeners есть положительная линейная взаимосвязь;\n",
    "наибольший коэффициент корреляции наблюдается между playcount и playcount_per_listener, listeners и playcount; наименьший между playcount и name_size, playcounts_per_listener и listeners"
   ]
  },
  {
   "cell_type": "code",
   "execution_count": 25,
   "id": "ce636d17",
   "metadata": {},
   "outputs": [
    {
     "data": {
      "text/plain": [
       "Text(0.5, 1.0, 'Распределение name_size')"
      ]
     },
     "execution_count": 25,
     "metadata": {},
     "output_type": "execute_result"
    },
    {
     "data": {
      "image/png": "[encoded data removed]",
      "text/plain": [
       "<Figure size 432x288 with 1 Axes>"
      ]
     },
     "metadata": {
      "needs_background": "light"
     },
     "output_type": "display_data"
    }
   ],
   "source": [
    "# график 11\n",
    "plt.hist(df.name_size)\n",
    "plt.xlabel('Длина названя треков')\n",
    "plt.title('Распределение name_size')"
   ]
  },
  {
   "cell_type": "markdown",
   "id": "f55f5c78",
   "metadata": {},
   "source": [
    "Полученное распределение name_size не похоже визуально на нормальное, можно заметить, что есть выбросы: максимальная длина названия трека более 80."
   ]
  }
 ],
 "metadata": {
  "kernelspec": {
   "display_name": "Python 3 (ipykernel)",
   "language": "python",
   "name": "python3"
  },
  "language_info": {
   "codemirror_mode": {
    "name": "ipython",
    "version": 3
   },
   "file_extension": ".py",
   "mimetype": "text/x-python",
   "name": "python",
   "nbconvert_exporter": "python",
   "pygments_lexer": "ipython3",
   "version": "3.9.7"
  }
 },
 "nbformat": 4,
 "nbformat_minor": 5
}
