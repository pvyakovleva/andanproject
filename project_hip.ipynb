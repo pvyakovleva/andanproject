{
 "cells": [
  {
   "cell_type": "code",
   "execution_count": 1,
   "id": "26a146c4",
   "metadata": {},
   "outputs": [],
   "source": [
    "import numpy as np\n",
    "import pandas as pd\n",
    "\n",
    "import scipy.stats as sts\n",
    "import matplotlib.pyplot as plt\n",
    "import seaborn as sns"
   ]
  },
  {
   "cell_type": "code",
   "execution_count": 4,
   "id": "2e077e94",
   "metadata": {},
   "outputs": [],
   "source": [
    "df = pd.read_csv('tracks_edited.csv', sep=',')"
   ]
  },
  {
   "cell_type": "code",
   "execution_count": 5,
   "id": "a5c418fe",
   "metadata": {},
   "outputs": [
    {
     "data": {
      "text/html": [
       "<div>\n",
       "<style scoped>\n",
       "    .dataframe tbody tr th:only-of-type {\n",
       "        vertical-align: middle;\n",
       "    }\n",
       "\n",
       "    .dataframe tbody tr th {\n",
       "        vertical-align: top;\n",
       "    }\n",
       "\n",
       "    .dataframe thead th {\n",
       "        text-align: right;\n",
       "    }\n",
       "</style>\n",
       "<table border=\"1\" class=\"dataframe\">\n",
       "  <thead>\n",
       "    <tr style=\"text-align: right;\">\n",
       "      <th></th>\n",
       "      <th>artist_name</th>\n",
       "      <th>song_name</th>\n",
       "      <th>duration</th>\n",
       "      <th>playcount</th>\n",
       "      <th>listeners</th>\n",
       "      <th>tag</th>\n",
       "      <th>name_size</th>\n",
       "      <th>playcounts_per_listener</th>\n",
       "    </tr>\n",
       "  </thead>\n",
       "  <tbody>\n",
       "    <tr>\n",
       "      <th>0</th>\n",
       "      <td>SZA</td>\n",
       "      <td>Kill Bill</td>\n",
       "      <td>2.566667</td>\n",
       "      <td>17429320</td>\n",
       "      <td>987007</td>\n",
       "      <td>pop</td>\n",
       "      <td>9</td>\n",
       "      <td>17.658760</td>\n",
       "    </tr>\n",
       "    <tr>\n",
       "      <th>1</th>\n",
       "      <td>Tyler, the Creator</td>\n",
       "      <td>See You Again (feat. Kali Uchis)</td>\n",
       "      <td>3.000000</td>\n",
       "      <td>16466512</td>\n",
       "      <td>1002965</td>\n",
       "      <td>rap</td>\n",
       "      <td>32</td>\n",
       "      <td>16.417833</td>\n",
       "    </tr>\n",
       "    <tr>\n",
       "      <th>2</th>\n",
       "      <td>pinkpantheress</td>\n",
       "      <td>Boy's a liar Pt. 2</td>\n",
       "      <td>3.166667</td>\n",
       "      <td>8772363</td>\n",
       "      <td>724864</td>\n",
       "      <td>rap</td>\n",
       "      <td>18</td>\n",
       "      <td>12.102081</td>\n",
       "    </tr>\n",
       "    <tr>\n",
       "      <th>3</th>\n",
       "      <td>Frank Ocean</td>\n",
       "      <td>Pink + White</td>\n",
       "      <td>3.066667</td>\n",
       "      <td>21272327</td>\n",
       "      <td>1105199</td>\n",
       "      <td>rnb</td>\n",
       "      <td>12</td>\n",
       "      <td>19.247508</td>\n",
       "    </tr>\n",
       "    <tr>\n",
       "      <th>4</th>\n",
       "      <td>Fifty Fifty</td>\n",
       "      <td>Cupid - Twin Ver.</td>\n",
       "      <td>3.166667</td>\n",
       "      <td>3895874</td>\n",
       "      <td>355420</td>\n",
       "      <td>pop</td>\n",
       "      <td>17</td>\n",
       "      <td>10.961325</td>\n",
       "    </tr>\n",
       "    <tr>\n",
       "      <th>...</th>\n",
       "      <td>...</td>\n",
       "      <td>...</td>\n",
       "      <td>...</td>\n",
       "      <td>...</td>\n",
       "      <td>...</td>\n",
       "      <td>...</td>\n",
       "      <td>...</td>\n",
       "      <td>...</td>\n",
       "    </tr>\n",
       "    <tr>\n",
       "      <th>1177</th>\n",
       "      <td>Ariana Grande</td>\n",
       "      <td>pov</td>\n",
       "      <td>3.333333</td>\n",
       "      <td>7396618</td>\n",
       "      <td>472265</td>\n",
       "      <td>rnb</td>\n",
       "      <td>3</td>\n",
       "      <td>15.662008</td>\n",
       "    </tr>\n",
       "    <tr>\n",
       "      <th>1178</th>\n",
       "      <td>Nirvana</td>\n",
       "      <td>All Apologies</td>\n",
       "      <td>4.016667</td>\n",
       "      <td>9185567</td>\n",
       "      <td>1364470</td>\n",
       "      <td>Grunge</td>\n",
       "      <td>13</td>\n",
       "      <td>6.731967</td>\n",
       "    </tr>\n",
       "    <tr>\n",
       "      <th>1179</th>\n",
       "      <td>NMixx</td>\n",
       "      <td>DICE</td>\n",
       "      <td>3.166667</td>\n",
       "      <td>4006601</td>\n",
       "      <td>177227</td>\n",
       "      <td>banger cry about it</td>\n",
       "      <td>4</td>\n",
       "      <td>22.607170</td>\n",
       "    </tr>\n",
       "    <tr>\n",
       "      <th>1180</th>\n",
       "      <td>SZA</td>\n",
       "      <td>Doves in the Wind (feat. Kendrick Lamar)</td>\n",
       "      <td>4.433333</td>\n",
       "      <td>3815810</td>\n",
       "      <td>387544</td>\n",
       "      <td>alternative rnb</td>\n",
       "      <td>40</td>\n",
       "      <td>9.846134</td>\n",
       "    </tr>\n",
       "    <tr>\n",
       "      <th>1181</th>\n",
       "      <td>SZA</td>\n",
       "      <td>SOS</td>\n",
       "      <td>1.950000</td>\n",
       "      <td>2878614</td>\n",
       "      <td>443878</td>\n",
       "      <td>rnb</td>\n",
       "      <td>3</td>\n",
       "      <td>6.485147</td>\n",
       "    </tr>\n",
       "  </tbody>\n",
       "</table>\n",
       "<p>1182 rows × 8 columns</p>\n",
       "</div>"
      ],
      "text/plain": [
       "             artist_name                                 song_name  duration  \\\n",
       "0                    SZA                                 Kill Bill  2.566667   \n",
       "1     Tyler, the Creator          See You Again (feat. Kali Uchis)  3.000000   \n",
       "2         pinkpantheress                        Boy's a liar Pt. 2  3.166667   \n",
       "3            Frank Ocean                              Pink + White  3.066667   \n",
       "4            Fifty Fifty                         Cupid - Twin Ver.  3.166667   \n",
       "...                  ...                                       ...       ...   \n",
       "1177       Ariana Grande                                       pov  3.333333   \n",
       "1178             Nirvana                             All Apologies  4.016667   \n",
       "1179               NMixx                                      DICE  3.166667   \n",
       "1180                 SZA  Doves in the Wind (feat. Kendrick Lamar)  4.433333   \n",
       "1181                 SZA                                       SOS  1.950000   \n",
       "\n",
       "      playcount  listeners                  tag  name_size  \\\n",
       "0      17429320     987007                  pop          9   \n",
       "1      16466512    1002965                  rap         32   \n",
       "2       8772363     724864                  rap         18   \n",
       "3      21272327    1105199                  rnb         12   \n",
       "4       3895874     355420                  pop         17   \n",
       "...         ...        ...                  ...        ...   \n",
       "1177    7396618     472265                  rnb          3   \n",
       "1178    9185567    1364470               Grunge         13   \n",
       "1179    4006601     177227  banger cry about it          4   \n",
       "1180    3815810     387544      alternative rnb         40   \n",
       "1181    2878614     443878                  rnb          3   \n",
       "\n",
       "      playcounts_per_listener  \n",
       "0                   17.658760  \n",
       "1                   16.417833  \n",
       "2                   12.102081  \n",
       "3                   19.247508  \n",
       "4                   10.961325  \n",
       "...                       ...  \n",
       "1177                15.662008  \n",
       "1178                 6.731967  \n",
       "1179                22.607170  \n",
       "1180                 9.846134  \n",
       "1181                 6.485147  \n",
       "\n",
       "[1182 rows x 8 columns]"
      ]
     },
     "execution_count": 5,
     "metadata": {},
     "output_type": "execute_result"
    }
   ],
   "source": [
    "df"
   ]
  },
  {
   "cell_type": "markdown",
   "id": "71fef17d",
   "metadata": {},
   "source": [
    "### 1. Гипотеза о том, что мат ожидание playcount тэга pop больше, чем мат ожидание прослушиваний всех остальных жанров "
   ]
  },
  {
   "cell_type": "code",
   "execution_count": 18,
   "id": "79654b12",
   "metadata": {},
   "outputs": [],
   "source": [
    "from scipy.stats import ttest_ind"
   ]
  },
  {
   "cell_type": "code",
   "execution_count": 19,
   "id": "05de746a",
   "metadata": {},
   "outputs": [
    {
     "data": {
      "text/plain": [
       "Ttest_indResult(statistic=3.5619191233717964, pvalue=0.9998085868598864)"
      ]
     },
     "execution_count": 19,
     "metadata": {},
     "output_type": "execute_result"
    }
   ],
   "source": [
    "ttest_ind(df[df.tag=='pop'].playcount, df[df.tag!='pop'].playcount, alternative='less')"
   ]
  },
  {
   "cell_type": "code",
   "execution_count": 20,
   "id": "1ba9cb91",
   "metadata": {},
   "outputs": [
    {
     "data": {
      "text/plain": [
       "True"
      ]
     },
     "execution_count": 20,
     "metadata": {},
     "output_type": "execute_result"
    }
   ],
   "source": [
    "ttest_ind(df[df.tag=='pop'].playcount, df[df.tag!='pop'].playcount, alternative='less')[1]>=0.05"
   ]
  },
  {
   "cell_type": "markdown",
   "id": "2386772e",
   "metadata": {},
   "source": [
    "Мы проверяем нулевую гипотезу о том, что мат ожидание playcount тэга pop больше, чем мат ожидание прослушиваний всех остальных жанров при уровне значимости альфа 0.05: p-value>alpha, поэтому нет оснований отвергать нулевую гипотезу. Мы выбрали именно двухвыборочный ttest (односторонний), так как мы не знаем истинные дисперсии выборок из истинных распределений. Получается, что полученный результат не проиворечит данным визуализации."
   ]
  },
  {
   "cell_type": "markdown",
   "id": "eeb68549",
   "metadata": {},
   "source": [
    "### 2. Гипотеза о том, что мат ожидания k-pop и folk тэгов равны"
   ]
  },
  {
   "cell_type": "code",
   "execution_count": 21,
   "id": "2e5dadd3",
   "metadata": {},
   "outputs": [
    {
     "data": {
      "text/plain": [
       "Ttest_indResult(statistic=-1.401878850424946, pvalue=0.16628060947685228)"
      ]
     },
     "execution_count": 21,
     "metadata": {},
     "output_type": "execute_result"
    }
   ],
   "source": [
    "ttest_ind(df[df.tag=='k-pop'].playcount, df[df.tag=='folk'].playcount)"
   ]
  },
  {
   "cell_type": "code",
   "execution_count": 23,
   "id": "186c3532",
   "metadata": {},
   "outputs": [
    {
     "data": {
      "text/plain": [
       "True"
      ]
     },
     "execution_count": 23,
     "metadata": {},
     "output_type": "execute_result"
    }
   ],
   "source": [
    "ttest_ind(df[df.tag=='k-pop'].playcount, df[df.tag=='folk'].playcount)[1]>=0.05"
   ]
  },
  {
   "cell_type": "markdown",
   "id": "ee6eaf46",
   "metadata": {},
   "source": [
    "Мы проверяем нулевую гипотезу о том, что мат ожиданиz k-pop и folk тэгов равны при уровне значимости альфа 0.05: p-value>alpha, поэтому нет оснований отвергать нулевую гипотезу. Мы выбрали именно двухвыборочный ttest (двухсторонний), так как мы не знаем истинные дисперсии выборок из истинных распределений. Получается, что полученный результат не проиворечит данным визуализации."
   ]
  },
  {
   "cell_type": "markdown",
   "id": "771043de",
   "metadata": {},
   "source": [
    "### 2. Гипотеза о том, что дисперсии k-pop и folk тэгов равны"
   ]
  },
  {
   "cell_type": "code",
   "execution_count": 24,
   "id": "27f08522",
   "metadata": {},
   "outputs": [
    {
     "data": {
      "text/plain": [
       "(33, 27)"
      ]
     },
     "execution_count": 24,
     "metadata": {},
     "output_type": "execute_result"
    }
   ],
   "source": [
    "len(df[df.tag=='k-pop'].playcount), len(df[df.tag=='folk'].playcount)"
   ]
  },
  {
   "cell_type": "code",
   "execution_count": 25,
   "id": "9dcb1d5e",
   "metadata": {},
   "outputs": [],
   "source": [
    "var_kpop=(np.std(df[df.tag=='k-pop'].playcount))**2"
   ]
  },
  {
   "cell_type": "code",
   "execution_count": 26,
   "id": "97a6709c",
   "metadata": {},
   "outputs": [],
   "source": [
    "var_folk=(np.std(df[df.tag=='folk'].playcount))**2"
   ]
  },
  {
   "cell_type": "code",
   "execution_count": 27,
   "id": "e8c37b0d",
   "metadata": {},
   "outputs": [],
   "source": [
    "f_stat=var_kpop/var_folk"
   ]
  },
  {
   "cell_type": "code",
   "execution_count": 28,
   "id": "e781f2e5",
   "metadata": {},
   "outputs": [],
   "source": [
    "from scipy.stats import f"
   ]
  },
  {
   "cell_type": "code",
   "execution_count": 29,
   "id": "1453a423",
   "metadata": {},
   "outputs": [],
   "source": [
    "F_crit = f.ppf(q=0.05, dfn=33-1, dfd=27-1)"
   ]
  },
  {
   "cell_type": "code",
   "execution_count": 32,
   "id": "2745216e",
   "metadata": {},
   "outputs": [
    {
     "data": {
      "text/plain": [
       "False"
      ]
     },
     "execution_count": 32,
     "metadata": {},
     "output_type": "execute_result"
    }
   ],
   "source": [
    "f_stat<=F_crit"
   ]
  },
  {
   "cell_type": "markdown",
   "id": "cddc7ffd",
   "metadata": {},
   "source": [
    "Проверяем нулевую гипотезу о равенстве дисперсий с помощью теста Фишера. Рассчитали вручную ф-статистику, нашли квантиль для альфа 0.05 для распределения с конкретными степенями свободы. Оказалось, что наблюдаемая статистика (f_stat) лежит правее критического значения, то есть попадает в область отвержения нулевой гипотезы. Следовательно, нулевая гипотеза отвергается. "
   ]
  },
  {
   "cell_type": "markdown",
   "id": "b5a7af8d",
   "metadata": {},
   "source": [
    "# Вывод"
   ]
  },
  {
   "cell_type": "markdown",
   "id": "63c13da4",
   "metadata": {},
   "source": [
    "В итоге: \n",
    "Согласно результатам нашего исследования, песни с тэгом pop наиболее популярны, так как имеют наибольшее количество прослушиваний на данной платформе. \n",
    "Также, тесты по данным тэгов k-pop и folk действительно не дали оснований отвергать гипотезу о том, что мат ожидания прослушиваний равны, но гипотеза о равенстве дисперсий была отвергнута, следовательно, данные выборки не имеют одинаковых истинных распределений, хотя результаты визуализаций демонстрируют их схожесть. "
   ]
  }
 ],
 "metadata": {
  "kernelspec": {
   "display_name": "Python 3 (ipykernel)",
   "language": "python",
   "name": "python3"
  },
  "language_info": {
   "codemirror_mode": {
    "name": "ipython",
    "version": 3
   },
   "file_extension": ".py",
   "mimetype": "text/x-python",
   "name": "python",
   "nbconvert_exporter": "python",
   "pygments_lexer": "ipython3",
   "version": "3.9.7"
  }
 },
 "nbformat": 4,
 "nbformat_minor": 5
}
