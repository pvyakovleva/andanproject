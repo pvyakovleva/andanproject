{
 "cells": [
  {
   "cell_type": "code",
   "execution_count": 1,
   "id": "2299f1d3",
   "metadata": {},
   "outputs": [],
   "source": [
    "import numpy as np\n",
    "import pandas as pd\n",
    "\n",
    "import scipy.stats as sts\n",
    "import matplotlib.pyplot as plt\n",
    "import seaborn as sns"
   ]
  },
  {
   "cell_type": "code",
   "execution_count": 2,
   "id": "039d48cc",
   "metadata": {},
   "outputs": [],
   "source": [
    "df = pd.read_csv('tracks_edited.csv', sep=',')"
   ]
  },
  {
   "cell_type": "markdown",
   "id": "b078345f",
   "metadata": {},
   "source": [
    "### Линейная регрессия"
   ]
  },
  {
   "cell_type": "code",
   "execution_count": 3,
   "id": "cd6915b7",
   "metadata": {},
   "outputs": [],
   "source": [
    "from sklearn.preprocessing import OneHotEncoder\n",
    "from sklearn.compose import ColumnTransformer"
   ]
  },
  {
   "cell_type": "code",
   "execution_count": 4,
   "id": "888fa945",
   "metadata": {},
   "outputs": [],
   "source": [
    "tags=np.unique(df.tag.values)"
   ]
  },
  {
   "cell_type": "code",
   "execution_count": 5,
   "id": "bcf3ede2",
   "metadata": {},
   "outputs": [],
   "source": [
    "categorical_features=tags"
   ]
  },
  {
   "cell_type": "code",
   "execution_count": 6,
   "id": "cf2d0eaf",
   "metadata": {},
   "outputs": [],
   "source": [
    "one_hot = pd.get_dummies(df['tag'], prefix='tag')\n",
    "df = pd.concat([df, one_hot], axis=1)\n",
    "df = df.drop('tag', axis=1)"
   ]
  },
  {
   "cell_type": "code",
   "execution_count": 7,
   "id": "fd98b855",
   "metadata": {},
   "outputs": [
    {
     "data": {
      "text/plain": [
       "Index(['artist_name', 'song_name', 'duration', 'playcount', 'listeners',\n",
       "       'name_size', 'playcounts_per_listener', 'tag_2017', 'tag_2021',\n",
       "       'tag_2022',\n",
       "       ...\n",
       "       'tag_surf rock', 'tag_synth funk', 'tag_synthpop', 'tag_synthwave',\n",
       "       'tag_sza', 'tag_trap', 'tag_trip-hop', 'tag_tyler the creator',\n",
       "       'tag_uh huh honey', 'tag_unique'],\n",
       "      dtype='object', length=166)"
      ]
     },
     "execution_count": 7,
     "metadata": {},
     "output_type": "execute_result"
    }
   ],
   "source": [
    "df.columns"
   ]
  },
  {
   "cell_type": "markdown",
   "id": "d682feef",
   "metadata": {},
   "source": [
    "Изменили формат категориальной переменной tag, чтобы было удобнее построить модель "
   ]
  },
  {
   "cell_type": "code",
   "execution_count": 8,
   "id": "6ab1acc4",
   "metadata": {},
   "outputs": [],
   "source": [
    "from sklearn.model_selection import train_test_split  # функция для деления \n",
    "\n",
    "# делим в пропорции 80 к 20\n",
    "df_train, df_test = train_test_split(df, test_size = 0.2, random_state=42)\n",
    "\n",
    "y_train = df_train['playcount']\n",
    "y_test = df_test['playcount']\n",
    "\n",
    "X_train = df_train[['duration', 'listeners', 'name_size', 'playcounts_per_listener', 'tag_Hip-Hop',\n",
    "       'tag_MySpotigramBot', 'tag_alternative', 'tag_dream pop', 'tag_folk',\n",
    "       'tag_indie', 'tag_indie pop', 'tag_indie rock', 'tag_k-pop', 'tag_pop',\n",
    "       'tag_rap', 'tag_rnb', 'tag_rock', 'tag_soul', 'tag_trap']]\n",
    "X_test = df_test[['duration', 'listeners', 'name_size', 'playcounts_per_listener', 'tag_Hip-Hop',\n",
    "       'tag_MySpotigramBot', 'tag_alternative', 'tag_dream pop', 'tag_folk',\n",
    "       'tag_indie', 'tag_indie pop', 'tag_indie rock', 'tag_k-pop', 'tag_pop',\n",
    "       'tag_rap', 'tag_rnb', 'tag_rock', 'tag_soul', 'tag_trap']]"
   ]
  },
  {
   "cell_type": "code",
   "execution_count": 12,
   "id": "79af49f3",
   "metadata": {},
   "outputs": [
    {
     "data": {
      "text/plain": [
       "LinearRegression(fit_intercept=False)"
      ]
     },
     "execution_count": 12,
     "metadata": {},
     "output_type": "execute_result"
    }
   ],
   "source": [
    "from sklearn.linear_model import LinearRegression # подгрузили модель\n",
    "\n",
    "model_regression = LinearRegression(fit_intercept=False)\n",
    "\n",
    "# Обучили модель на тренировочной выборке \n",
    "model_regression.fit(X_train, y_train)"
   ]
  },
  {
   "cell_type": "code",
   "execution_count": 13,
   "id": "efaf6676",
   "metadata": {},
   "outputs": [
    {
     "data": {
      "text/plain": [
       "array([-5.99705167e+05,  9.46982996e+00, -1.99735476e+04,  2.80707351e+05,\n",
       "       -3.17202516e+04,  1.60847706e+05,  6.15030282e+05,  1.14423001e+06,\n",
       "        1.20322045e+06,  7.14296898e+05,  1.12535994e+06,  1.06596079e+06,\n",
       "       -4.40829714e+05,  9.07775717e+05, -7.08052099e+05,  1.01141184e+06,\n",
       "       -2.66530098e+05, -4.72351923e+05,  5.78947212e+05])"
      ]
     },
     "execution_count": 13,
     "metadata": {},
     "output_type": "execute_result"
    }
   ],
   "source": [
    "model_regression.coef_ # получили коэффициенты модели"
   ]
  },
  {
   "cell_type": "code",
   "execution_count": 14,
   "id": "d76aae46",
   "metadata": {},
   "outputs": [],
   "source": [
    "y_pred=model_regression.predict(X_test)"
   ]
  },
  {
   "cell_type": "code",
   "execution_count": 15,
   "id": "75206d04",
   "metadata": {},
   "outputs": [
    {
     "data": {
      "text/plain": [
       "2145764.6273004403"
      ]
     },
     "execution_count": 15,
     "metadata": {},
     "output_type": "execute_result"
    }
   ],
   "source": [
    "from sklearn.metrics import mean_squared_error\n",
    "np.sqrt(mean_squared_error(y_pred, y_test)) "
   ]
  },
  {
   "cell_type": "markdown",
   "id": "79a49900",
   "metadata": {},
   "source": [
    "RMSE показал, что мы в среднем ошибаемся на 2,15 млн playcounts"
   ]
  },
  {
   "cell_type": "markdown",
   "id": "4d7a6d7a",
   "metadata": {},
   "source": [
    "### Random Forest  Classifier"
   ]
  },
  {
   "cell_type": "code",
   "execution_count": 16,
   "id": "d05c1b24",
   "metadata": {},
   "outputs": [],
   "source": [
    "from sklearn.ensemble import RandomForestRegressor"
   ]
  },
  {
   "cell_type": "code",
   "execution_count": 17,
   "id": "f85196f4",
   "metadata": {},
   "outputs": [],
   "source": [
    "model_rf=RandomForestRegressor(random_state=42)"
   ]
  },
  {
   "cell_type": "code",
   "execution_count": 18,
   "id": "0248512c",
   "metadata": {},
   "outputs": [
    {
     "data": {
      "text/plain": [
       "RandomForestRegressor(random_state=42)"
      ]
     },
     "execution_count": 18,
     "metadata": {},
     "output_type": "execute_result"
    }
   ],
   "source": [
    "model_rf.fit(X_train, y_train)"
   ]
  },
  {
   "cell_type": "code",
   "execution_count": 19,
   "id": "57ae4a0a",
   "metadata": {},
   "outputs": [],
   "source": [
    "y_pred=model_rf.predict(X_test)"
   ]
  },
  {
   "cell_type": "code",
   "execution_count": 20,
   "id": "2562ab01",
   "metadata": {},
   "outputs": [
    {
     "data": {
      "text/plain": [
       "2016710.0850335972"
      ]
     },
     "execution_count": 20,
     "metadata": {},
     "output_type": "execute_result"
    }
   ],
   "source": [
    "np.sqrt(mean_squared_error(y_pred, y_test)) "
   ]
  },
  {
   "cell_type": "markdown",
   "id": "aa8c5949",
   "metadata": {},
   "source": [
    "RMSE показал, что мы в среднем ошибаемся на 2,02 млн playcounts для трэков"
   ]
  },
  {
   "cell_type": "markdown",
   "id": "732443bc",
   "metadata": {},
   "source": [
    "### Support Vector Machines "
   ]
  },
  {
   "cell_type": "code",
   "execution_count": 21,
   "id": "aef142a0",
   "metadata": {},
   "outputs": [],
   "source": [
    "from sklearn import svm"
   ]
  },
  {
   "cell_type": "code",
   "execution_count": 22,
   "id": "212696ca",
   "metadata": {},
   "outputs": [
    {
     "data": {
      "text/plain": [
       "SVC(random_state=42)"
      ]
     },
     "execution_count": 22,
     "metadata": {},
     "output_type": "execute_result"
    }
   ],
   "source": [
    "clf = svm.SVC(random_state=42)\n",
    "clf.fit(X_train, y_train)"
   ]
  },
  {
   "cell_type": "code",
   "execution_count": 23,
   "id": "d600e7c6",
   "metadata": {},
   "outputs": [],
   "source": [
    "y_pred=clf.predict(X_test)"
   ]
  },
  {
   "cell_type": "code",
   "execution_count": 24,
   "id": "924b0c17",
   "metadata": {},
   "outputs": [
    {
     "data": {
      "text/plain": [
       "5360354.2731236555"
      ]
     },
     "execution_count": 24,
     "metadata": {},
     "output_type": "execute_result"
    }
   ],
   "source": [
    "np.sqrt(mean_squared_error(y_pred, y_test)) "
   ]
  },
  {
   "cell_type": "markdown",
   "id": "c74fa5a5",
   "metadata": {},
   "source": [
    "RMSE показал, что мы в среднем ошибаемся на 3,55 млн playcounts для трэков"
   ]
  },
  {
   "cell_type": "code",
   "execution_count": 25,
   "id": "9a7a7cac",
   "metadata": {},
   "outputs": [
    {
     "data": {
      "text/plain": [
       "7817094.625211506"
      ]
     },
     "execution_count": 25,
     "metadata": {},
     "output_type": "execute_result"
    }
   ],
   "source": [
    "df.playcount.mean()"
   ]
  },
  {
   "cell_type": "markdown",
   "id": "0a550894",
   "metadata": {},
   "source": [
    "Итог: \n",
    "Мы попробовали отмасштабировать данные с помощью StandartScaler(), но это очень сильно ухудшило результат работы линейной регресси (с RMSE от 2 выросло до 8 миллионов), а на результаты моделей случайного леса и опорных векторов это не оказало значительного влияния, поэтому мы в конце решили этого не делать. \n",
    "При сравнении метрик мы обнаружили, что наименьшим значением RMSE обладает модель случайного леса, то есть из представленных трех она работает наиболее эффективно: в принципе ошибка в 2,02 миллионов это не очень критично (среднее значение-многомиллионное значение). \n",
    "Решили предсказывать именно значение playcount, а не listeners, так как, на наш взгляд, именно первая зависит от второй. Чем больше человек добавляют песню в плейлист, тем больше как минимум \"официальных\" слушателей у конкретного трека. \n",
    "В качестве метрики качества мы использовали RMSE, так как процентные метрики в случае многомиллионных показателей стримов не так репрезентативны, а возведение в квадрат разности (MSE) также не позваляет наглядно оценить результаты, они слишком большие."
   ]
  },
  {
   "cell_type": "markdown",
   "id": "34b90113",
   "metadata": {},
   "source": [
    " ### Random Forest  Classifier оптимизация"
   ]
  },
  {
   "cell_type": "code",
   "execution_count": 27,
   "id": "7f0934c4",
   "metadata": {},
   "outputs": [],
   "source": [
    "from sklearn.model_selection import GridSearchCV\n",
    "param_grid = {'n_estimators': [100, 200, 500],'criterion': ['mse', 'mae', 'friedman_mse', 'poisson'],\n",
    "    'max_depth': [2, 3, 5],'min_samples_leaf': [1, 2, 3],'min_samples_split': [2, 3, 5],\n",
    "    'max_features': [2, 3, 5]}\n",
    "grid_search = GridSearchCV(model_rf, param_grid, cv=4)\n",
    "grid_search.fit(X_train, y_train)\n",
    "best_params=grid_search.best_params_"
   ]
  },
  {
   "cell_type": "code",
   "execution_count": 28,
   "id": "6523e672",
   "metadata": {},
   "outputs": [
    {
     "data": {
      "text/plain": [
       "{'criterion': 'mse',\n",
       " 'max_depth': 5,\n",
       " 'max_features': 5,\n",
       " 'min_samples_leaf': 3,\n",
       " 'min_samples_split': 2,\n",
       " 'n_estimators': 500}"
      ]
     },
     "execution_count": 28,
     "metadata": {},
     "output_type": "execute_result"
    }
   ],
   "source": [
    "best_params"
   ]
  },
  {
   "cell_type": "code",
   "execution_count": 29,
   "id": "07f30369",
   "metadata": {},
   "outputs": [
    {
     "data": {
      "text/plain": [
       "RandomForestRegressor(max_depth=5, max_features=5, min_samples_leaf=3,\n",
       "                      n_estimators=500)"
      ]
     },
     "execution_count": 29,
     "metadata": {},
     "output_type": "execute_result"
    }
   ],
   "source": [
    "best_model_rf=RandomForestRegressor(n_estimators=500, criterion='mse', max_depth=5, min_samples_split=2, min_samples_leaf=3, \n",
    "                                     max_features=5)\n",
    "best_model_rf.fit(X_train, y_train)"
   ]
  },
  {
   "cell_type": "code",
   "execution_count": 30,
   "id": "18328067",
   "metadata": {},
   "outputs": [],
   "source": [
    "y_pred=best_model_rf.predict(X_test)"
   ]
  },
  {
   "cell_type": "code",
   "execution_count": 31,
   "id": "7aa7032f",
   "metadata": {},
   "outputs": [
    {
     "data": {
      "text/plain": [
       "3526198.479929482"
      ]
     },
     "execution_count": 31,
     "metadata": {},
     "output_type": "execute_result"
    }
   ],
   "source": [
    "\n",
    "np.sqrt(mean_squared_error(y_pred, y_test)) "
   ]
  },
  {
   "cell_type": "markdown",
   "id": "4cb727a3",
   "metadata": {},
   "source": [
    "Прооптимизированный случайный лес представил большую ошибку, чем модель с дефолтными показателями "
   ]
  },
  {
   "cell_type": "code",
   "execution_count": null,
   "id": "83a9eb27",
   "metadata": {},
   "outputs": [],
   "source": []
  }
 ],
 "metadata": {
  "kernelspec": {
   "display_name": "Python 3 (ipykernel)",
   "language": "python",
   "name": "python3"
  },
  "language_info": {
   "codemirror_mode": {
    "name": "ipython",
    "version": 3
   },
   "file_extension": ".py",
   "mimetype": "text/x-python",
   "name": "python",
   "nbconvert_exporter": "python",
   "pygments_lexer": "ipython3",
   "version": "3.9.7"
  }
 },
 "nbformat": 4,
 "nbformat_minor": 5
}
